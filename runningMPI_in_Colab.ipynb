{
  "nbformat": 4,
  "nbformat_minor": 0,
  "metadata": {
    "colab": {
      "name": "runningMPI-in-Colab.ipynb",
      "provenance": [],
      "include_colab_link": true
    },
    "kernelspec": {
      "name": "python3",
      "display_name": "Python 3"
    },
    "language_info": {
      "name": "python"
    }
  },
  "cells": [
    {
      "cell_type": "markdown",
      "metadata": {
        "id": "view-in-github",
        "colab_type": "text"
      },
      "source": [
        "<a href=\"https://colab.research.google.com/github/mlinard/AWS-aula-1-/blob/master/runningMPI_in_Colab.ipynb\" target=\"_parent\"><img src=\"https://colab.research.google.com/assets/colab-badge.svg\" alt=\"Open In Colab\"/></a>"
      ]
    },
    {
      "cell_type": "code",
      "execution_count": 6,
      "metadata": {
        "id": "wT_CNHAL8KG_",
        "outputId": "31b0aeb1-826c-4056-fa09-ae37dcde43ff",
        "colab": {
          "base_uri": "https://localhost:8080/"
        }
      },
      "outputs": [
        {
          "output_type": "stream",
          "name": "stdout",
          "text": [
            "Reading package lists... Done\n",
            "Building dependency tree... Done\n",
            "Reading state information... Done\n",
            "libopenmpi-dev is already the newest version (4.1.2-2ubuntu1).\n",
            "openmpi-bin is already the newest version (4.1.2-2ubuntu1).\n",
            "openmpi-common is already the newest version (4.1.2-2ubuntu1).\n",
            "0 upgraded, 0 newly installed, 0 to remove and 29 not upgraded.\n"
          ]
        }
      ],
      "source": [
        "!apt install openmpi-bin openmpi-common libopenmpi-dev"
      ]
    },
    {
      "cell_type": "code",
      "source": [
        "%%writefile teste-mpi.c\n",
        "#include \"mpi.h\"\n",
        "#include <stdio.h>\n",
        "#include <math.h>\n",
        "#include <unistd.h>\n",
        "#include <stdlib.h>\n",
        "\n",
        "#define MAXSIZE 1000\n",
        "int main(int argc, char **argv)\n",
        "{\n",
        "\tint myid, numprocs;\n",
        "\tint data[MAXSIZE], i, x, low, high, myresult=0, result=0;\n",
        "\tFILE *fp;\n",
        "\tMPI_Init(&argc,&argv);\n",
        "\tMPI_Comm_size(MPI_COMM_WORLD,&numprocs);\n",
        "\tMPI_Comm_rank(MPI_COMM_WORLD,&myid);\n",
        "\tif (myid == 0) {  /* Open input file and initialize data */\n",
        "\t\tif ((fp = fopen(\"rand.txt\",\"r\")) == NULL) {\n",
        "\t\t\tprintf(\"Can't open the input file: rand.txt\\n\\n\");\n",
        "\t\t\texit(1);\n",
        "\t\t}\n",
        "\t\tfor(i = 0; i < MAXSIZE; i++) fscanf(fp,\"%d\\n\", &data[i]);\n",
        "\t}\n",
        "\tMPI_Bcast(data, MAXSIZE, MPI_INT, 0, MPI_COMM_WORLD); /* broadcast data */\n",
        "\tx = MAXSIZE/numprocs; /* Add my portion Of data */\n",
        "\tlow = myid * x;\n",
        "\thigh = low + x;\n",
        "\tfor(i = low; i < high; i++)\n",
        "\t\tmyresult += data[i];\n",
        "\tchar hostname[30];\n",
        "\tgethostname(hostname, 30);\n",
        "\tprintf(\"I got %d from %d - %s\\n\", myresult, myid, hostname); /* Compute global sum */\n",
        "\tMPI_Reduce(&myresult, &result, 1, MPI_INT, MPI_SUM, 0, MPI_COMM_WORLD);\n",
        "\tif (myid == 0) printf(\"The sum is %d.\\n\", result);\n",
        "\tMPI_Finalize();\n",
        "\treturn 0;\n",
        "}\n",
        "\n"
      ],
      "metadata": {
        "id": "IjyITTZb8X4b",
        "outputId": "2d9ffeb7-ca09-4407-e60e-228b71d35cb9",
        "colab": {
          "base_uri": "https://localhost:8080/"
        }
      },
      "execution_count": 7,
      "outputs": [
        {
          "output_type": "stream",
          "name": "stdout",
          "text": [
            "Overwriting teste-mpi.c\n"
          ]
        }
      ]
    },
    {
      "cell_type": "code",
      "source": [
        "!mpicc -o teste-mpi teste-mpi.c"
      ],
      "metadata": {
        "id": "e2YZ_O_e8y9s"
      },
      "execution_count": 8,
      "outputs": []
    },
    {
      "cell_type": "code",
      "source": [
        "!mpiexec --allow-run-as-root --oversubscribe -n 4 ./teste-mpi\n"
      ],
      "metadata": {
        "id": "2bGIuJ1q85NZ",
        "outputId": "bc940d3f-d9bf-45fe-dc53-dcf93df59b4f",
        "colab": {
          "base_uri": "https://localhost:8080/"
        }
      },
      "execution_count": 9,
      "outputs": [
        {
          "output_type": "stream",
          "name": "stdout",
          "text": [
            "Can't open the input file: rand.txt\n",
            "\n",
            "--------------------------------------------------------------------------\n",
            "Primary job  terminated normally, but 1 process returned\n",
            "a non-zero exit code. Per user-direction, the job has been aborted.\n",
            "--------------------------------------------------------------------------\n",
            "--------------------------------------------------------------------------\n",
            "mpiexec detected that one or more processes exited with non-zero status, thus causing\n",
            "the job to be terminated. The first process to do so was:\n",
            "\n",
            "  Process name: [[36725,1],0]\n",
            "  Exit code:    1\n",
            "--------------------------------------------------------------------------\n"
          ]
        }
      ]
    }
  ]
}